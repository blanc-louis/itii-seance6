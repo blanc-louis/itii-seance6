{
 "cells": [
  {
   "cell_type": "code",
   "execution_count": 1,
   "metadata": {},
   "outputs": [
    {
     "name": "stdout",
     "output_type": "stream",
     "text": [
      "0.33338333499999834\n"
     ]
    }
   ],
   "source": [
    "#exercice 1 q1\n",
    "def calculate_dx (a, b, n):\n",
    "    return (b-a)/float(n)\n",
    "\n",
    "def f(x):\n",
    "    return x**2\n",
    "\n",
    "def integrale (f, a, b, n):\n",
    "    Total=0\n",
    "    dx=calculate_dx (a, b, n)\n",
    "    for i in range(1,n+1):\n",
    "        fi=f(a+i*(dx))\n",
    "        Total=Total+fi\n",
    "    integral=Total*dx\n",
    "    return(integral)\n",
    "    \n",
    "\n",
    "print(integrale(f,0,1,10000))\n",
    "\n",
    "\n"
   ]
  },
  {
   "cell_type": "code",
   "execution_count": 3,
   "metadata": {},
   "outputs": [
    {
     "data": {
      "text/latex": [
       "$\\displaystyle -2 + \\pi$"
      ],
      "text/plain": [
       "-2 + pi"
      ]
     },
     "execution_count": 3,
     "metadata": {},
     "output_type": "execute_result"
    }
   ],
   "source": [
    "from sympy import *\n",
    "t= Symbol('t')\n",
    "integrate(t**2*sin(t), (t,0,pi/2))"
   ]
  },
  {
   "cell_type": "code",
   "execution_count": 4,
   "metadata": {},
   "outputs": [
    {
     "name": "stdout",
     "output_type": "stream",
     "text": [
      "10110\n"
     ]
    }
   ],
   "source": [
    "import numpy as np\n",
    "x= Symbol('x')\n",
    "def f(x):\n",
    "    return x**2+x\n",
    "\n",
    "n=10\n",
    "a=0\n",
    "b=1\n",
    "integral_real=integrate(x**2+x, (x,a,b))\n",
    "higherror=True\n",
    "step=100\n",
    "                        \n",
    "while (higherror):\n",
    "    integral_num=integrale(f,0,1,n)\n",
    "    if np.abs(integral_num-integral_real)<10**-4:\n",
    "        higherror=False\n",
    "    n=n+step\n",
    "\n",
    "\n",
    "\n",
    "print(n)  "
   ]
  },
  {
   "cell_type": "code",
   "execution_count": 5,
   "metadata": {},
   "outputs": [
    {
     "data": {
      "text/latex": [
       "$\\displaystyle -12$"
      ],
      "text/plain": [
       "-12"
      ]
     },
     "execution_count": 5,
     "metadata": {},
     "output_type": "execute_result"
    }
   ],
   "source": [
    "from sympy import *\n",
    "x = Symbol('x')\n",
    "func = 3*x**3 +x**2 -5\n",
    "integrate(func,(x,-3,3))"
   ]
  },
  {
   "cell_type": "code",
   "execution_count": 6,
   "metadata": {},
   "outputs": [
    {
     "ename": "NameError",
     "evalue": "name 'h' is not defined",
     "output_type": "error",
     "traceback": [
      "\u001b[1;31m---------------------------------------------------------------------------\u001b[0m",
      "\u001b[1;31mNameError\u001b[0m                                 Traceback (most recent call last)",
      "\u001b[1;32m<ipython-input-6-9d21d7d7dcca>\u001b[0m in \u001b[0;36m<module>\u001b[1;34m\u001b[0m\n\u001b[0;32m     12\u001b[0m     \u001b[1;32mreturn\u001b[0m \u001b[0mresult\u001b[0m\u001b[1;33m\u001b[0m\u001b[1;33m\u001b[0m\u001b[0m\n\u001b[0;32m     13\u001b[0m \u001b[1;33m\u001b[0m\u001b[0m\n\u001b[1;32m---> 14\u001b[1;33m \u001b[0mtrapezoidal\u001b[0m\u001b[1;33m(\u001b[0m\u001b[0mf\u001b[0m\u001b[1;33m,\u001b[0m \u001b[1;36m0\u001b[0m\u001b[1;33m,\u001b[0m \u001b[1;36m1\u001b[0m\u001b[1;33m,\u001b[0m \u001b[1;36m10\u001b[0m\u001b[1;33m)\u001b[0m\u001b[1;33m\u001b[0m\u001b[1;33m\u001b[0m\u001b[0m\n\u001b[0m",
      "\u001b[1;32m<ipython-input-6-9d21d7d7dcca>\u001b[0m in \u001b[0;36mtrapezoidal\u001b[1;34m(f, a, b, n)\u001b[0m\n\u001b[0;32m      8\u001b[0m \u001b[1;33m\u001b[0m\u001b[0m\n\u001b[0;32m      9\u001b[0m     \u001b[1;32mfor\u001b[0m \u001b[0mi\u001b[0m \u001b[1;32min\u001b[0m \u001b[0mrange\u001b[0m\u001b[1;33m(\u001b[0m\u001b[1;36m1\u001b[0m\u001b[1;33m,\u001b[0m \u001b[0mn\u001b[0m\u001b[1;33m)\u001b[0m\u001b[1;33m:\u001b[0m\u001b[1;33m\u001b[0m\u001b[1;33m\u001b[0m\u001b[0m\n\u001b[1;32m---> 10\u001b[1;33m         \u001b[0mresult\u001b[0m \u001b[1;33m+=\u001b[0m \u001b[0mf\u001b[0m\u001b[1;33m(\u001b[0m\u001b[0ma\u001b[0m \u001b[1;33m+\u001b[0m \u001b[0mi\u001b[0m\u001b[1;33m*\u001b[0m\u001b[0mh\u001b[0m\u001b[1;33m)\u001b[0m\u001b[1;33m\u001b[0m\u001b[1;33m\u001b[0m\u001b[0m\n\u001b[0m\u001b[0;32m     11\u001b[0m     \u001b[0mresult\u001b[0m \u001b[1;33m*=\u001b[0m \u001b[0mh\u001b[0m\u001b[1;33m\u001b[0m\u001b[1;33m\u001b[0m\u001b[0m\n\u001b[0;32m     12\u001b[0m     \u001b[1;32mreturn\u001b[0m \u001b[0mresult\u001b[0m\u001b[1;33m\u001b[0m\u001b[1;33m\u001b[0m\u001b[0m\n",
      "\u001b[1;31mNameError\u001b[0m: name 'h' is not defined"
     ]
    }
   ],
   "source": [
    "def f(x):\n",
    "    return x\n",
    "\n",
    "def trapezoidal(f, a, b, n):\n",
    "    dx = float(b-a)/n\n",
    "    \n",
    "    result = 0.5*f(a) + 0.5*f(b)\n",
    "    \n",
    "    for i in range(1, n):\n",
    "        result += f(a + i*h)\n",
    "    result *= h\n",
    "    return result\n",
    "\n",
    "trapezoidal(f, 0, 1, 10)"
   ]
  },
  {
   "cell_type": "code",
   "execution_count": 7,
   "metadata": {},
   "outputs": [
    {
     "name": "stdout",
     "output_type": "stream",
     "text": [
      "error is 0.444640\n",
      "error is 0.193087\n",
      "error is 0.106284\n",
      "error is 0.067245\n",
      "error is 0.046395\n",
      "error is 0.033950\n",
      "error is 0.025925\n",
      "error is 0.020447\n",
      "error is 0.016541\n",
      "error is 0.013657\n",
      "error is 0.011467\n",
      "error is 0.009765\n",
      "error is 0.008416\n",
      "error is 0.007329\n",
      "error is 0.006440\n",
      "error is 0.005703\n",
      "error is 0.005086\n",
      "error is 0.004564\n",
      "error is 0.004118\n",
      "error is 0.003735\n",
      "error is 0.003403\n",
      "error is 0.003113\n",
      "error is 0.002859\n",
      "error is 0.002634\n",
      "error is 0.002435\n",
      "error is 0.002258\n",
      "error is 0.002100\n",
      "error is 0.001957\n"
     ]
    }
   ],
   "source": [
    "def precise_integral(a,b):\n",
    "    #change function here\n",
    "    func=integrate(x*sin(x**2), x)\n",
    "    Fa=func.subs(x, a).evalf()\n",
    "    Fb=func.subs(x, b).evalf()\n",
    "    integral=Fb-Fa\n",
    "    #print(func.subs(x, 0).evalf())\n",
    "    #print(func.subs(x, 1).evalf())\n",
    "    #print(integral)\n",
    "    return integral\n",
    "\n",
    "\n",
    "\n",
    "def f(x):\n",
    "    return x*sin(x**2)\n",
    "\n",
    "def trapezoidal(f, a, b, n):\n",
    "    h = float(b-a)/n\n",
    "    result = 0.5*f(a) + 0.5*f(b)\n",
    "    for i in range(1, n):\n",
    "        result += f(a + i*h)\n",
    "    result *= h\n",
    "    return result\n",
    "\n",
    "trapezoidal(f, 0, 1, 10)\n",
    "a=0\n",
    "b=np.sqrt(np.pi)\n",
    "pr_int=precise_integral(a,b)\n",
    "for n in range(2,30):\n",
    "    num_value=trapezoidal(f, a, b, n)\n",
    "    print(\"error is %f\"%(pr_int-num_value))"
   ]
  },
  {
   "cell_type": "code",
   "execution_count": 8,
   "metadata": {},
   "outputs": [],
   "source": [
    "def precise_integral(a,b):\n",
    "    #change function here\n",
    "    func=integrate(x*sin(x**2), x)\n",
    "    Fa=func.subs(x, a).evalf()\n",
    "    Fb=func.subs(x, b).evalf()\n",
    "    integral=Fb-Fa\n",
    "    #print(func.subs(x, 0).evalf())\n",
    "    #print(func.subs(x, 1).evalf())\n",
    "    #print(integral)\n",
    "    return integral\n",
    "\n",
    "\n",
    "\n",
    "def f(x):\n",
    "    return x*sin(x**2)\n",
    "\n",
    "def trapezoidal(f, a, b, n):\n",
    "    h = float(b-a)/n\n",
    "    result = 0.5*f(a) + 0.5*f(b)\n",
    "    for i in range(1, n):\n",
    "        result += f(a + i*h)\n",
    "    result *= h\n",
    "    return result\n",
    "\n"
   ]
  },
  {
   "cell_type": "code",
   "execution_count": 9,
   "metadata": {},
   "outputs": [
    {
     "name": "stdout",
     "output_type": "stream",
     "text": [
      "error is 0.444640\n",
      "error is 0.193087\n",
      "error is 0.106284\n",
      "error is 0.067245\n",
      "error is 0.046395\n",
      "error is 0.033950\n",
      "error is 0.025925\n",
      "error is 0.020447\n",
      "error is 0.016541\n",
      "error is 0.013657\n",
      "error is 0.011467\n",
      "error is 0.009765\n",
      "error is 0.008416\n",
      "error is 0.007329\n",
      "error is 0.006440\n",
      "error is 0.005703\n",
      "error is 0.005086\n",
      "error is 0.004564\n",
      "error is 0.004118\n",
      "error is 0.003735\n",
      "error is 0.003403\n",
      "error is 0.003113\n",
      "error is 0.002859\n",
      "error is 0.002634\n",
      "error is 0.002435\n",
      "error is 0.002258\n",
      "error is 0.002100\n",
      "error is 0.001957\n"
     ]
    }
   ],
   "source": [
    "trapezoidal(f, 0, 1, 10)\n",
    "a=0\n",
    "b=np.sqrt(np.pi)\n",
    "pr_int=precise_integral(a,b)\n",
    "for n in range(2,30):\n",
    "    num_value=trapezoidal(f, a, b, n)\n",
    "    print(\"error is %f\"%(pr_int-num_value))"
   ]
  },
  {
   "cell_type": "code",
   "execution_count": null,
   "metadata": {},
   "outputs": [],
   "source": []
  }
 ],
 "metadata": {
  "kernelspec": {
   "display_name": "Python 3",
   "language": "python",
   "name": "python3"
  },
  "language_info": {
   "codemirror_mode": {
    "name": "ipython",
    "version": 3
   },
   "file_extension": ".py",
   "mimetype": "text/x-python",
   "name": "python",
   "nbconvert_exporter": "python",
   "pygments_lexer": "ipython3",
   "version": "3.8.3"
  }
 },
 "nbformat": 4,
 "nbformat_minor": 4
}
